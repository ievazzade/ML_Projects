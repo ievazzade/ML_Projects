{
 "cells": [
  {
   "cell_type": "code",
   "execution_count": 18,
   "metadata": {},
   "outputs": [],
   "source": [
    "import numpy as np\n",
    "import pandas as pd\n",
    "import seaborn as sns\n",
    "import matplotlib.pyplot as plt\n",
    "import warnings\n",
    "warnings.filterwarnings('ignore')"
   ]
  },
  {
   "cell_type": "code",
   "execution_count": 2,
   "metadata": {},
   "outputs": [
    {
     "data": {
      "text/html": [
       "<div>\n",
       "<style scoped>\n",
       "    .dataframe tbody tr th:only-of-type {\n",
       "        vertical-align: middle;\n",
       "    }\n",
       "\n",
       "    .dataframe tbody tr th {\n",
       "        vertical-align: top;\n",
       "    }\n",
       "\n",
       "    .dataframe thead th {\n",
       "        text-align: right;\n",
       "    }\n",
       "</style>\n",
       "<table border=\"1\" class=\"dataframe\">\n",
       "  <thead>\n",
       "    <tr style=\"text-align: right;\">\n",
       "      <th></th>\n",
       "      <th>Open</th>\n",
       "      <th>High</th>\n",
       "      <th>Low</th>\n",
       "      <th>Close</th>\n",
       "      <th>Adj Close</th>\n",
       "      <th>Volume</th>\n",
       "    </tr>\n",
       "    <tr>\n",
       "      <th>Date</th>\n",
       "      <th></th>\n",
       "      <th></th>\n",
       "      <th></th>\n",
       "      <th></th>\n",
       "      <th></th>\n",
       "      <th></th>\n",
       "    </tr>\n",
       "  </thead>\n",
       "  <tbody>\n",
       "    <tr>\n",
       "      <th>1980-12-12</th>\n",
       "      <td>0.128348</td>\n",
       "      <td>0.128906</td>\n",
       "      <td>0.128348</td>\n",
       "      <td>0.128348</td>\n",
       "      <td>0.099874</td>\n",
       "      <td>469033600</td>\n",
       "    </tr>\n",
       "    <tr>\n",
       "      <th>1980-12-15</th>\n",
       "      <td>0.122210</td>\n",
       "      <td>0.122210</td>\n",
       "      <td>0.121652</td>\n",
       "      <td>0.121652</td>\n",
       "      <td>0.094663</td>\n",
       "      <td>175884800</td>\n",
       "    </tr>\n",
       "    <tr>\n",
       "      <th>1980-12-16</th>\n",
       "      <td>0.113281</td>\n",
       "      <td>0.113281</td>\n",
       "      <td>0.112723</td>\n",
       "      <td>0.112723</td>\n",
       "      <td>0.087715</td>\n",
       "      <td>105728000</td>\n",
       "    </tr>\n",
       "    <tr>\n",
       "      <th>1980-12-17</th>\n",
       "      <td>0.115513</td>\n",
       "      <td>0.116071</td>\n",
       "      <td>0.115513</td>\n",
       "      <td>0.115513</td>\n",
       "      <td>0.089886</td>\n",
       "      <td>86441600</td>\n",
       "    </tr>\n",
       "    <tr>\n",
       "      <th>1980-12-18</th>\n",
       "      <td>0.118862</td>\n",
       "      <td>0.119420</td>\n",
       "      <td>0.118862</td>\n",
       "      <td>0.118862</td>\n",
       "      <td>0.092492</td>\n",
       "      <td>73449600</td>\n",
       "    </tr>\n",
       "  </tbody>\n",
       "</table>\n",
       "</div>"
      ],
      "text/plain": [
       "                Open      High       Low     Close  Adj Close     Volume\n",
       "Date                                                                    \n",
       "1980-12-12  0.128348  0.128906  0.128348  0.128348   0.099874  469033600\n",
       "1980-12-15  0.122210  0.122210  0.121652  0.121652   0.094663  175884800\n",
       "1980-12-16  0.113281  0.113281  0.112723  0.112723   0.087715  105728000\n",
       "1980-12-17  0.115513  0.116071  0.115513  0.115513   0.089886   86441600\n",
       "1980-12-18  0.118862  0.119420  0.118862  0.118862   0.092492   73449600"
      ]
     },
     "execution_count": 2,
     "metadata": {},
     "output_type": "execute_result"
    }
   ],
   "source": [
    "aapl = pd.read_csv('./AAPL.csv', parse_dates=['Date'], index_col=0)\n",
    "aapl.head()"
   ]
  },
  {
   "cell_type": "code",
   "execution_count": 3,
   "metadata": {},
   "outputs": [
    {
     "name": "stdout",
     "output_type": "stream",
     "text": [
      "<class 'pandas.core.frame.DataFrame'>\n",
      "DatetimeIndex: 10567 entries, 1980-12-12 to 2022-11-08\n",
      "Data columns (total 6 columns):\n",
      " #   Column     Non-Null Count  Dtype  \n",
      "---  ------     --------------  -----  \n",
      " 0   Open       10567 non-null  float64\n",
      " 1   High       10567 non-null  float64\n",
      " 2   Low        10567 non-null  float64\n",
      " 3   Close      10567 non-null  float64\n",
      " 4   Adj Close  10567 non-null  float64\n",
      " 5   Volume     10567 non-null  int64  \n",
      "dtypes: float64(5), int64(1)\n",
      "memory usage: 577.9 KB\n"
     ]
    }
   ],
   "source": [
    "aapl.info()"
   ]
  },
  {
   "cell_type": "code",
   "execution_count": 4,
   "metadata": {},
   "outputs": [
    {
     "data": {
      "text/html": [
       "<div>\n",
       "<style scoped>\n",
       "    .dataframe tbody tr th:only-of-type {\n",
       "        vertical-align: middle;\n",
       "    }\n",
       "\n",
       "    .dataframe tbody tr th {\n",
       "        vertical-align: top;\n",
       "    }\n",
       "\n",
       "    .dataframe thead th {\n",
       "        text-align: right;\n",
       "    }\n",
       "</style>\n",
       "<table border=\"1\" class=\"dataframe\">\n",
       "  <thead>\n",
       "    <tr style=\"text-align: right;\">\n",
       "      <th></th>\n",
       "      <th>Open</th>\n",
       "      <th>High</th>\n",
       "      <th>Low</th>\n",
       "      <th>Close</th>\n",
       "      <th>Adj Close</th>\n",
       "      <th>Volume</th>\n",
       "    </tr>\n",
       "    <tr>\n",
       "      <th>Date</th>\n",
       "      <th></th>\n",
       "      <th></th>\n",
       "      <th></th>\n",
       "      <th></th>\n",
       "      <th></th>\n",
       "      <th></th>\n",
       "    </tr>\n",
       "  </thead>\n",
       "  <tbody>\n",
       "    <tr>\n",
       "      <th>1974-12-17</th>\n",
       "      <td>0.0</td>\n",
       "      <td>7.375000</td>\n",
       "      <td>6.625000</td>\n",
       "      <td>7.250000</td>\n",
       "      <td>1.967924</td>\n",
       "      <td>310800</td>\n",
       "    </tr>\n",
       "    <tr>\n",
       "      <th>1974-12-18</th>\n",
       "      <td>0.0</td>\n",
       "      <td>7.750000</td>\n",
       "      <td>7.500000</td>\n",
       "      <td>7.541667</td>\n",
       "      <td>2.047093</td>\n",
       "      <td>95400</td>\n",
       "    </tr>\n",
       "    <tr>\n",
       "      <th>1974-12-19</th>\n",
       "      <td>0.0</td>\n",
       "      <td>8.083333</td>\n",
       "      <td>7.416667</td>\n",
       "      <td>7.916667</td>\n",
       "      <td>2.148883</td>\n",
       "      <td>143100</td>\n",
       "    </tr>\n",
       "    <tr>\n",
       "      <th>1974-12-20</th>\n",
       "      <td>0.0</td>\n",
       "      <td>7.958333</td>\n",
       "      <td>7.708333</td>\n",
       "      <td>7.708333</td>\n",
       "      <td>2.092331</td>\n",
       "      <td>75300</td>\n",
       "    </tr>\n",
       "    <tr>\n",
       "      <th>1974-12-23</th>\n",
       "      <td>0.0</td>\n",
       "      <td>8.000000</td>\n",
       "      <td>7.583333</td>\n",
       "      <td>8.000000</td>\n",
       "      <td>2.171500</td>\n",
       "      <td>112800</td>\n",
       "    </tr>\n",
       "  </tbody>\n",
       "</table>\n",
       "</div>"
      ],
      "text/plain": [
       "            Open      High       Low     Close  Adj Close  Volume\n",
       "Date                                                             \n",
       "1974-12-17   0.0  7.375000  6.625000  7.250000   1.967924  310800\n",
       "1974-12-18   0.0  7.750000  7.500000  7.541667   2.047093   95400\n",
       "1974-12-19   0.0  8.083333  7.416667  7.916667   2.148883  143100\n",
       "1974-12-20   0.0  7.958333  7.708333  7.708333   2.092331   75300\n",
       "1974-12-23   0.0  8.000000  7.583333  8.000000   2.171500  112800"
      ]
     },
     "execution_count": 4,
     "metadata": {},
     "output_type": "execute_result"
    }
   ],
   "source": [
    "iff = pd.read_csv('./IFF.csv', parse_dates=['Date'], index_col=0)\n",
    "iff.head()"
   ]
  },
  {
   "cell_type": "code",
   "execution_count": 5,
   "metadata": {},
   "outputs": [
    {
     "name": "stdout",
     "output_type": "stream",
     "text": [
      "<class 'pandas.core.frame.DataFrame'>\n",
      "DatetimeIndex: 12080 entries, 1974-12-17 to 2022-11-08\n",
      "Data columns (total 6 columns):\n",
      " #   Column     Non-Null Count  Dtype  \n",
      "---  ------     --------------  -----  \n",
      " 0   Open       12080 non-null  float64\n",
      " 1   High       12080 non-null  float64\n",
      " 2   Low        12080 non-null  float64\n",
      " 3   Close      12080 non-null  float64\n",
      " 4   Adj Close  12080 non-null  float64\n",
      " 5   Volume     12080 non-null  int64  \n",
      "dtypes: float64(5), int64(1)\n",
      "memory usage: 660.6 KB\n"
     ]
    }
   ],
   "source": [
    "iff.info()"
   ]
  },
  {
   "cell_type": "code",
   "execution_count": 6,
   "metadata": {},
   "outputs": [
    {
     "data": {
      "text/html": [
       "<div>\n",
       "<style scoped>\n",
       "    .dataframe tbody tr th:only-of-type {\n",
       "        vertical-align: middle;\n",
       "    }\n",
       "\n",
       "    .dataframe tbody tr th {\n",
       "        vertical-align: top;\n",
       "    }\n",
       "\n",
       "    .dataframe thead th {\n",
       "        text-align: right;\n",
       "    }\n",
       "</style>\n",
       "<table border=\"1\" class=\"dataframe\">\n",
       "  <thead>\n",
       "    <tr style=\"text-align: right;\">\n",
       "      <th></th>\n",
       "      <th>Close</th>\n",
       "      <th>Volume</th>\n",
       "      <th>Open</th>\n",
       "      <th>High</th>\n",
       "      <th>Low</th>\n",
       "    </tr>\n",
       "    <tr>\n",
       "      <th>Date</th>\n",
       "      <th></th>\n",
       "      <th></th>\n",
       "      <th></th>\n",
       "      <th></th>\n",
       "      <th></th>\n",
       "    </tr>\n",
       "  </thead>\n",
       "  <tbody>\n",
       "    <tr>\n",
       "      <th>2012-11-09</th>\n",
       "      <td>1379.85</td>\n",
       "      <td>--</td>\n",
       "      <td>1377.55</td>\n",
       "      <td>1391.39</td>\n",
       "      <td>1373.03</td>\n",
       "    </tr>\n",
       "    <tr>\n",
       "      <th>2012-11-12</th>\n",
       "      <td>1380.03</td>\n",
       "      <td>--</td>\n",
       "      <td>1379.86</td>\n",
       "      <td>1384.87</td>\n",
       "      <td>1377.19</td>\n",
       "    </tr>\n",
       "    <tr>\n",
       "      <th>2012-11-13</th>\n",
       "      <td>1374.53</td>\n",
       "      <td>--</td>\n",
       "      <td>1380.03</td>\n",
       "      <td>1388.81</td>\n",
       "      <td>1371.39</td>\n",
       "    </tr>\n",
       "    <tr>\n",
       "      <th>2012-11-14</th>\n",
       "      <td>1355.49</td>\n",
       "      <td>--</td>\n",
       "      <td>1374.64</td>\n",
       "      <td>1380.13</td>\n",
       "      <td>1352.50</td>\n",
       "    </tr>\n",
       "    <tr>\n",
       "      <th>2012-11-15</th>\n",
       "      <td>1353.33</td>\n",
       "      <td>--</td>\n",
       "      <td>1355.41</td>\n",
       "      <td>1360.62</td>\n",
       "      <td>1348.05</td>\n",
       "    </tr>\n",
       "  </tbody>\n",
       "</table>\n",
       "</div>"
      ],
      "text/plain": [
       "              Close Volume     Open     High      Low\n",
       "Date                                                 \n",
       "2012-11-09  1379.85     --  1377.55  1391.39  1373.03\n",
       "2012-11-12  1380.03     --  1379.86  1384.87  1377.19\n",
       "2012-11-13  1374.53     --  1380.03  1388.81  1371.39\n",
       "2012-11-14  1355.49     --  1374.64  1380.13  1352.50\n",
       "2012-11-15  1353.33     --  1355.41  1360.62  1348.05"
      ]
     },
     "execution_count": 6,
     "metadata": {},
     "output_type": "execute_result"
    }
   ],
   "source": [
    "spx = pd.read_csv('./SPX.csv', parse_dates=['Date'], index_col='Date')\n",
    "spx.sort_index(ascending=True, inplace=True)\n",
    "spx.rename(columns={'Close/Last':'Close'}, inplace=True)\n",
    "spx.head()"
   ]
  },
  {
   "cell_type": "code",
   "execution_count": 7,
   "metadata": {},
   "outputs": [
    {
     "name": "stdout",
     "output_type": "stream",
     "text": [
      "<class 'pandas.core.frame.DataFrame'>\n",
      "DatetimeIndex: 2546 entries, 2012-11-09 to 2022-11-08\n",
      "Data columns (total 5 columns):\n",
      " #   Column  Non-Null Count  Dtype  \n",
      "---  ------  --------------  -----  \n",
      " 0   Close   2546 non-null   float64\n",
      " 1   Volume  2546 non-null   object \n",
      " 2   Open    2546 non-null   float64\n",
      " 3   High    2546 non-null   float64\n",
      " 4   Low     2546 non-null   float64\n",
      "dtypes: float64(4), object(1)\n",
      "memory usage: 119.3+ KB\n"
     ]
    }
   ],
   "source": [
    "spx.info()"
   ]
  },
  {
   "cell_type": "code",
   "execution_count": 8,
   "metadata": {},
   "outputs": [
    {
     "data": {
      "text/plain": [
       "<AxesSubplot:xlabel='Date'>"
      ]
     },
     "execution_count": 8,
     "metadata": {},
     "output_type": "execute_result"
    },
    {
     "data": {
      "image/png": "[encoded data removed]",
      "text/plain": [
       "<Figure size 1080x864 with 1 Axes>"
      ]
     },
     "metadata": {
      "needs_background": "light"
     },
     "output_type": "display_data"
    }
   ],
   "source": [
    "plt.figure(figsize=(15, 12))\n",
    "aapl.Close.plot()\n",
    "iff.Close.plot()"
   ]
  },
  {
   "cell_type": "markdown",
   "metadata": {},
   "source": [
    "# Random Walk"
   ]
  },
  {
   "cell_type": "code",
   "execution_count": 30,
   "metadata": {},
   "outputs": [],
   "source": [
    "from numpy.random import normal, seed\n",
    "from scipy.stats import norm\n",
    "# seed(42)"
   ]
  },
  {
   "cell_type": "code",
   "execution_count": 41,
   "metadata": {},
   "outputs": [
    {
     "data": {
      "image/png": "[encoded data removed]",
      "text/plain": [
       "<Figure size 432x288 with 1 Axes>"
      ]
     },
     "metadata": {
      "needs_background": "light"
     },
     "output_type": "display_data"
    }
   ],
   "source": [
    "# Create Random Numbers\n",
    "random_returns = normal(loc=0, scale=0.01, size=1000)\n",
    "sns.distplot(random_returns, fit=norm, kde=False)\n",
    "plt.show()"
   ]
  },
  {
   "cell_type": "code",
   "execution_count": 69,
   "metadata": {},
   "outputs": [
    {
     "data": {
      "text/plain": [
       "[<matplotlib.lines.Line2D at 0x7fa829c969e8>]"
      ]
     },
     "execution_count": 69,
     "metadata": {},
     "output_type": "execute_result"
    },
    {
     "data": {
      "image/png": "[encoded data removed]",
      "text/plain": [
       "<Figure size 432x288 with 1 Axes>"
      ]
     },
     "metadata": {
      "needs_background": "light"
     },
     "output_type": "display_data"
    }
   ],
   "source": [
    "plt.plot(random_returns)"
   ]
  },
  {
   "cell_type": "code",
   "execution_count": null,
   "metadata": {},
   "outputs": [],
   "source": []
  },
  {
   "cell_type": "code",
   "execution_count": null,
   "metadata": {},
   "outputs": [],
   "source": []
  },
  {
   "cell_type": "code",
   "execution_count": 81,
   "metadata": {},
   "outputs": [
    {
     "data": {
      "text/html": [
       "<div>\n",
       "<style scoped>\n",
       "    .dataframe tbody tr th:only-of-type {\n",
       "        vertical-align: middle;\n",
       "    }\n",
       "\n",
       "    .dataframe tbody tr th {\n",
       "        vertical-align: top;\n",
       "    }\n",
       "\n",
       "    .dataframe thead th {\n",
       "        text-align: right;\n",
       "    }\n",
       "</style>\n",
       "<table border=\"1\" class=\"dataframe\">\n",
       "  <thead>\n",
       "    <tr style=\"text-align: right;\">\n",
       "      <th></th>\n",
       "      <th>Close</th>\n",
       "    </tr>\n",
       "    <tr>\n",
       "      <th>Date</th>\n",
       "      <th></th>\n",
       "    </tr>\n",
       "  </thead>\n",
       "  <tbody>\n",
       "    <tr>\n",
       "      <th>2012-11-09</th>\n",
       "      <td>1379.85</td>\n",
       "    </tr>\n",
       "    <tr>\n",
       "      <th>2012-11-12</th>\n",
       "      <td>1380.03</td>\n",
       "    </tr>\n",
       "    <tr>\n",
       "      <th>2012-11-13</th>\n",
       "      <td>1374.53</td>\n",
       "    </tr>\n",
       "    <tr>\n",
       "      <th>2012-11-14</th>\n",
       "      <td>1355.49</td>\n",
       "    </tr>\n",
       "    <tr>\n",
       "      <th>2012-11-15</th>\n",
       "      <td>1353.33</td>\n",
       "    </tr>\n",
       "  </tbody>\n",
       "</table>\n",
       "</div>"
      ],
      "text/plain": [
       "              Close\n",
       "Date               \n",
       "2012-11-09  1379.85\n",
       "2012-11-12  1380.03\n",
       "2012-11-13  1374.53\n",
       "2012-11-14  1355.49\n",
       "2012-11-15  1353.33"
      ]
     },
     "execution_count": 81,
     "metadata": {},
     "output_type": "execute_result"
    }
   ],
   "source": [
    "df_spx = spx['Close'].to_frame()\n",
    "df_spx.head()"
   ]
  },
  {
   "cell_type": "code",
   "execution_count": 82,
   "metadata": {},
   "outputs": [],
   "source": [
    "df_spx['pct_change'] = df_spx.Close.pct_change()"
   ]
  },
  {
   "cell_type": "code",
   "execution_count": 88,
   "metadata": {},
   "outputs": [
    {
     "data": {
      "text/html": [
       "<div>\n",
       "<style scoped>\n",
       "    .dataframe tbody tr th:only-of-type {\n",
       "        vertical-align: middle;\n",
       "    }\n",
       "\n",
       "    .dataframe tbody tr th {\n",
       "        vertical-align: top;\n",
       "    }\n",
       "\n",
       "    .dataframe thead th {\n",
       "        text-align: right;\n",
       "    }\n",
       "</style>\n",
       "<table border=\"1\" class=\"dataframe\">\n",
       "  <thead>\n",
       "    <tr style=\"text-align: right;\">\n",
       "      <th></th>\n",
       "      <th>Close</th>\n",
       "      <th>pct_change</th>\n",
       "      <th>shifted</th>\n",
       "      <th>diff</th>\n",
       "      <th>ret</th>\n",
       "    </tr>\n",
       "    <tr>\n",
       "      <th>Date</th>\n",
       "      <th></th>\n",
       "      <th></th>\n",
       "      <th></th>\n",
       "      <th></th>\n",
       "      <th></th>\n",
       "    </tr>\n",
       "  </thead>\n",
       "  <tbody>\n",
       "    <tr>\n",
       "      <th>2012-11-09</th>\n",
       "      <td>1379.85</td>\n",
       "      <td>NaN</td>\n",
       "      <td>NaN</td>\n",
       "      <td>NaN</td>\n",
       "      <td>NaN</td>\n",
       "    </tr>\n",
       "    <tr>\n",
       "      <th>2012-11-12</th>\n",
       "      <td>1380.03</td>\n",
       "      <td>0.000130</td>\n",
       "      <td>1379.85</td>\n",
       "      <td>1.000130</td>\n",
       "      <td>0.000130</td>\n",
       "    </tr>\n",
       "    <tr>\n",
       "      <th>2012-11-13</th>\n",
       "      <td>1374.53</td>\n",
       "      <td>-0.003985</td>\n",
       "      <td>1380.03</td>\n",
       "      <td>0.996015</td>\n",
       "      <td>-0.003985</td>\n",
       "    </tr>\n",
       "    <tr>\n",
       "      <th>2012-11-14</th>\n",
       "      <td>1355.49</td>\n",
       "      <td>-0.013852</td>\n",
       "      <td>1374.53</td>\n",
       "      <td>0.986148</td>\n",
       "      <td>-0.013852</td>\n",
       "    </tr>\n",
       "    <tr>\n",
       "      <th>2012-11-15</th>\n",
       "      <td>1353.33</td>\n",
       "      <td>-0.001594</td>\n",
       "      <td>1355.49</td>\n",
       "      <td>0.998406</td>\n",
       "      <td>-0.001594</td>\n",
       "    </tr>\n",
       "  </tbody>\n",
       "</table>\n",
       "</div>"
      ],
      "text/plain": [
       "              Close  pct_change  shifted      diff       ret\n",
       "Date                                                        \n",
       "2012-11-09  1379.85         NaN      NaN       NaN       NaN\n",
       "2012-11-12  1380.03    0.000130  1379.85  1.000130  0.000130\n",
       "2012-11-13  1374.53   -0.003985  1380.03  0.996015 -0.003985\n",
       "2012-11-14  1355.49   -0.013852  1374.53  0.986148 -0.013852\n",
       "2012-11-15  1353.33   -0.001594  1355.49  0.998406 -0.001594"
      ]
     },
     "execution_count": 88,
     "metadata": {},
     "output_type": "execute_result"
    }
   ],
   "source": [
    "df_spx['shifted'] = df_spx.Close.shift()\n",
    "df_spx['diff'] = df_spx['Close'].div(df_spx.shifted)\n",
    "df_spx['ret'] = df_spx['diff'].sub(1)\n",
    "df_spx.head()"
   ]
  },
  {
   "cell_type": "code",
   "execution_count": null,
   "metadata": {},
   "outputs": [],
   "source": []
  }
 ],
 "metadata": {
  "kernelspec": {
   "display_name": "Python 3.6.12 ('mdanalysis')",
   "language": "python",
   "name": "python3"
  },
  "language_info": {
   "codemirror_mode": {
    "name": "ipython",
    "version": 3
   },
   "file_extension": ".py",
   "mimetype": "text/x-python",
   "name": "python",
   "nbconvert_exporter": "python",
   "pygments_lexer": "ipython3",
   "version": "3.6.12"
  },
  "orig_nbformat": 4,
  "vscode": {
   "interpreter": {
    "hash": "7c2ff857100bde34f48f5e0e98e176447aec4667c4de751b477b7367cfbdc006"
   }
  }
 },
 "nbformat": 4,
 "nbformat_minor": 2
}

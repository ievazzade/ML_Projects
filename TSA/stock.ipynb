{
 "cells": [
  {
   "cell_type": "code",
   "execution_count": 2,
   "metadata": {},
   "outputs": [],
   "source": [
    "import numpy as np\n",
    "import pandas as pd\n",
    "import seaborn as sns\n",
    "import matplotlib.pyplot as plt\n",
    "import warnings\n",
    "warnings.filterwarnings('ignore')"
   ]
  },
  {
   "cell_type": "code",
   "execution_count": 3,
   "metadata": {},
   "outputs": [
    {
     "data": {
      "text/html": [
       "<div>\n",
       "<style scoped>\n",
       "    .dataframe tbody tr th:only-of-type {\n",
       "        vertical-align: middle;\n",
       "    }\n",
       "\n",
       "    .dataframe tbody tr th {\n",
       "        vertical-align: top;\n",
       "    }\n",
       "\n",
       "    .dataframe thead th {\n",
       "        text-align: right;\n",
       "    }\n",
       "</style>\n",
       "<table border=\"1\" class=\"dataframe\">\n",
       "  <thead>\n",
       "    <tr style=\"text-align: right;\">\n",
       "      <th></th>\n",
       "      <th>Open</th>\n",
       "      <th>High</th>\n",
       "      <th>Low</th>\n",
       "      <th>Close</th>\n",
       "      <th>Adj Close</th>\n",
       "      <th>Volume</th>\n",
       "    </tr>\n",
       "    <tr>\n",
       "      <th>Date</th>\n",
       "      <th></th>\n",
       "      <th></th>\n",
       "      <th></th>\n",
       "      <th></th>\n",
       "      <th></th>\n",
       "      <th></th>\n",
       "    </tr>\n",
       "  </thead>\n",
       "  <tbody>\n",
       "    <tr>\n",
       "      <th>1980-12-12</th>\n",
       "      <td>0.128348</td>\n",
       "      <td>0.128906</td>\n",
       "      <td>0.128348</td>\n",
       "      <td>0.128348</td>\n",
       "      <td>0.099874</td>\n",
       "      <td>469033600</td>\n",
       "    </tr>\n",
       "    <tr>\n",
       "      <th>1980-12-15</th>\n",
       "      <td>0.122210</td>\n",
       "      <td>0.122210</td>\n",
       "      <td>0.121652</td>\n",
       "      <td>0.121652</td>\n",
       "      <td>0.094663</td>\n",
       "      <td>175884800</td>\n",
       "    </tr>\n",
       "    <tr>\n",
       "      <th>1980-12-16</th>\n",
       "      <td>0.113281</td>\n",
       "      <td>0.113281</td>\n",
       "      <td>0.112723</td>\n",
       "      <td>0.112723</td>\n",
       "      <td>0.087715</td>\n",
       "      <td>105728000</td>\n",
       "    </tr>\n",
       "    <tr>\n",
       "      <th>1980-12-17</th>\n",
       "      <td>0.115513</td>\n",
       "      <td>0.116071</td>\n",
       "      <td>0.115513</td>\n",
       "      <td>0.115513</td>\n",
       "      <td>0.089886</td>\n",
       "      <td>86441600</td>\n",
       "    </tr>\n",
       "    <tr>\n",
       "      <th>1980-12-18</th>\n",
       "      <td>0.118862</td>\n",
       "      <td>0.119420</td>\n",
       "      <td>0.118862</td>\n",
       "      <td>0.118862</td>\n",
       "      <td>0.092492</td>\n",
       "      <td>73449600</td>\n",
       "    </tr>\n",
       "  </tbody>\n",
       "</table>\n",
       "</div>"
      ],
      "text/plain": [
       "                Open      High       Low     Close  Adj Close     Volume\n",
       "Date                                                                    \n",
       "1980-12-12  0.128348  0.128906  0.128348  0.128348   0.099874  469033600\n",
       "1980-12-15  0.122210  0.122210  0.121652  0.121652   0.094663  175884800\n",
       "1980-12-16  0.113281  0.113281  0.112723  0.112723   0.087715  105728000\n",
       "1980-12-17  0.115513  0.116071  0.115513  0.115513   0.089886   86441600\n",
       "1980-12-18  0.118862  0.119420  0.118862  0.118862   0.092492   73449600"
      ]
     },
     "execution_count": 3,
     "metadata": {},
     "output_type": "execute_result"
    }
   ],
   "source": [
    "aapl = pd.read_csv('./AAPL.csv', parse_dates=['Date'], index_col=0)\n",
    "aapl.head()"
   ]
  },
  {
   "cell_type": "code",
   "execution_count": 4,
   "metadata": {},
   "outputs": [
    {
     "name": "stdout",
     "output_type": "stream",
     "text": [
      "<class 'pandas.core.frame.DataFrame'>\n",
      "DatetimeIndex: 10567 entries, 1980-12-12 to 2022-11-08\n",
      "Data columns (total 6 columns):\n",
      " #   Column     Non-Null Count  Dtype  \n",
      "---  ------     --------------  -----  \n",
      " 0   Open       10567 non-null  float64\n",
      " 1   High       10567 non-null  float64\n",
      " 2   Low        10567 non-null  float64\n",
      " 3   Close      10567 non-null  float64\n",
      " 4   Adj Close  10567 non-null  float64\n",
      " 5   Volume     10567 non-null  int64  \n",
      "dtypes: float64(5), int64(1)\n",
      "memory usage: 577.9 KB\n"
     ]
    }
   ],
   "source": [
    "aapl.info()"
   ]
  },
  {
   "cell_type": "code",
   "execution_count": 5,
   "metadata": {},
   "outputs": [
    {
     "data": {
      "text/html": [
       "<div>\n",
       "<style scoped>\n",
       "    .dataframe tbody tr th:only-of-type {\n",
       "        vertical-align: middle;\n",
       "    }\n",
       "\n",
       "    .dataframe tbody tr th {\n",
       "        vertical-align: top;\n",
       "    }\n",
       "\n",
       "    .dataframe thead th {\n",
       "        text-align: right;\n",
       "    }\n",
       "</style>\n",
       "<table border=\"1\" class=\"dataframe\">\n",
       "  <thead>\n",
       "    <tr style=\"text-align: right;\">\n",
       "      <th></th>\n",
       "      <th>Open</th>\n",
       "      <th>High</th>\n",
       "      <th>Low</th>\n",
       "      <th>Close</th>\n",
       "      <th>Adj Close</th>\n",
       "      <th>Volume</th>\n",
       "    </tr>\n",
       "    <tr>\n",
       "      <th>Date</th>\n",
       "      <th></th>\n",
       "      <th></th>\n",
       "      <th></th>\n",
       "      <th></th>\n",
       "      <th></th>\n",
       "      <th></th>\n",
       "    </tr>\n",
       "  </thead>\n",
       "  <tbody>\n",
       "    <tr>\n",
       "      <th>1974-12-17</th>\n",
       "      <td>0.0</td>\n",
       "      <td>7.375000</td>\n",
       "      <td>6.625000</td>\n",
       "      <td>7.250000</td>\n",
       "      <td>1.967924</td>\n",
       "      <td>310800</td>\n",
       "    </tr>\n",
       "    <tr>\n",
       "      <th>1974-12-18</th>\n",
       "      <td>0.0</td>\n",
       "      <td>7.750000</td>\n",
       "      <td>7.500000</td>\n",
       "      <td>7.541667</td>\n",
       "      <td>2.047093</td>\n",
       "      <td>95400</td>\n",
       "    </tr>\n",
       "    <tr>\n",
       "      <th>1974-12-19</th>\n",
       "      <td>0.0</td>\n",
       "      <td>8.083333</td>\n",
       "      <td>7.416667</td>\n",
       "      <td>7.916667</td>\n",
       "      <td>2.148883</td>\n",
       "      <td>143100</td>\n",
       "    </tr>\n",
       "    <tr>\n",
       "      <th>1974-12-20</th>\n",
       "      <td>0.0</td>\n",
       "      <td>7.958333</td>\n",
       "      <td>7.708333</td>\n",
       "      <td>7.708333</td>\n",
       "      <td>2.092331</td>\n",
       "      <td>75300</td>\n",
       "    </tr>\n",
       "    <tr>\n",
       "      <th>1974-12-23</th>\n",
       "      <td>0.0</td>\n",
       "      <td>8.000000</td>\n",
       "      <td>7.583333</td>\n",
       "      <td>8.000000</td>\n",
       "      <td>2.171500</td>\n",
       "      <td>112800</td>\n",
       "    </tr>\n",
       "  </tbody>\n",
       "</table>\n",
       "</div>"
      ],
      "text/plain": [
       "            Open      High       Low     Close  Adj Close  Volume\n",
       "Date                                                             \n",
       "1974-12-17   0.0  7.375000  6.625000  7.250000   1.967924  310800\n",
       "1974-12-18   0.0  7.750000  7.500000  7.541667   2.047093   95400\n",
       "1974-12-19   0.0  8.083333  7.416667  7.916667   2.148883  143100\n",
       "1974-12-20   0.0  7.958333  7.708333  7.708333   2.092331   75300\n",
       "1974-12-23   0.0  8.000000  7.583333  8.000000   2.171500  112800"
      ]
     },
     "execution_count": 5,
     "metadata": {},
     "output_type": "execute_result"
    }
   ],
   "source": [
    "iff = pd.read_csv('./IFF.csv', parse_dates=['Date'], index_col=0)\n",
    "iff.head()"
   ]
  },
  {
   "cell_type": "code",
   "execution_count": 6,
   "metadata": {},
   "outputs": [
    {
     "name": "stdout",
     "output_type": "stream",
     "text": [
      "<class 'pandas.core.frame.DataFrame'>\n",
      "DatetimeIndex: 12080 entries, 1974-12-17 to 2022-11-08\n",
      "Data columns (total 6 columns):\n",
      " #   Column     Non-Null Count  Dtype  \n",
      "---  ------     --------------  -----  \n",
      " 0   Open       12080 non-null  float64\n",
      " 1   High       12080 non-null  float64\n",
      " 2   Low        12080 non-null  float64\n",
      " 3   Close      12080 non-null  float64\n",
      " 4   Adj Close  12080 non-null  float64\n",
      " 5   Volume     12080 non-null  int64  \n",
      "dtypes: float64(5), int64(1)\n",
      "memory usage: 660.6 KB\n"
     ]
    }
   ],
   "source": [
    "iff.info()"
   ]
  },
  {
   "cell_type": "code",
   "execution_count": 7,
   "metadata": {},
   "outputs": [
    {
     "data": {
      "text/html": [
       "<div>\n",
       "<style scoped>\n",
       "    .dataframe tbody tr th:only-of-type {\n",
       "        vertical-align: middle;\n",
       "    }\n",
       "\n",
       "    .dataframe tbody tr th {\n",
       "        vertical-align: top;\n",
       "    }\n",
       "\n",
       "    .dataframe thead th {\n",
       "        text-align: right;\n",
       "    }\n",
       "</style>\n",
       "<table border=\"1\" class=\"dataframe\">\n",
       "  <thead>\n",
       "    <tr style=\"text-align: right;\">\n",
       "      <th></th>\n",
       "      <th>Close</th>\n",
       "      <th>Volume</th>\n",
       "      <th>Open</th>\n",
       "      <th>High</th>\n",
       "      <th>Low</th>\n",
       "    </tr>\n",
       "    <tr>\n",
       "      <th>Date</th>\n",
       "      <th></th>\n",
       "      <th></th>\n",
       "      <th></th>\n",
       "      <th></th>\n",
       "      <th></th>\n",
       "    </tr>\n",
       "  </thead>\n",
       "  <tbody>\n",
       "    <tr>\n",
       "      <th>2012-11-09</th>\n",
       "      <td>1379.85</td>\n",
       "      <td>--</td>\n",
       "      <td>1377.55</td>\n",
       "      <td>1391.39</td>\n",
       "      <td>1373.03</td>\n",
       "    </tr>\n",
       "    <tr>\n",
       "      <th>2012-11-12</th>\n",
       "      <td>1380.03</td>\n",
       "      <td>--</td>\n",
       "      <td>1379.86</td>\n",
       "      <td>1384.87</td>\n",
       "      <td>1377.19</td>\n",
       "    </tr>\n",
       "    <tr>\n",
       "      <th>2012-11-13</th>\n",
       "      <td>1374.53</td>\n",
       "      <td>--</td>\n",
       "      <td>1380.03</td>\n",
       "      <td>1388.81</td>\n",
       "      <td>1371.39</td>\n",
       "    </tr>\n",
       "    <tr>\n",
       "      <th>2012-11-14</th>\n",
       "      <td>1355.49</td>\n",
       "      <td>--</td>\n",
       "      <td>1374.64</td>\n",
       "      <td>1380.13</td>\n",
       "      <td>1352.50</td>\n",
       "    </tr>\n",
       "    <tr>\n",
       "      <th>2012-11-15</th>\n",
       "      <td>1353.33</td>\n",
       "      <td>--</td>\n",
       "      <td>1355.41</td>\n",
       "      <td>1360.62</td>\n",
       "      <td>1348.05</td>\n",
       "    </tr>\n",
       "  </tbody>\n",
       "</table>\n",
       "</div>"
      ],
      "text/plain": [
       "              Close Volume     Open     High      Low\n",
       "Date                                                 \n",
       "2012-11-09  1379.85     --  1377.55  1391.39  1373.03\n",
       "2012-11-12  1380.03     --  1379.86  1384.87  1377.19\n",
       "2012-11-13  1374.53     --  1380.03  1388.81  1371.39\n",
       "2012-11-14  1355.49     --  1374.64  1380.13  1352.50\n",
       "2012-11-15  1353.33     --  1355.41  1360.62  1348.05"
      ]
     },
     "execution_count": 7,
     "metadata": {},
     "output_type": "execute_result"
    }
   ],
   "source": [
    "spx = pd.read_csv('./SPX.csv', parse_dates=['Date'], index_col='Date')\n",
    "spx.sort_index(ascending=True, inplace=True)\n",
    "spx.rename(columns={'Close/Last':'Close'}, inplace=True)\n",
    "spx.head()"
   ]
  },
  {
   "cell_type": "code",
   "execution_count": 8,
   "metadata": {},
   "outputs": [
    {
     "name": "stdout",
     "output_type": "stream",
     "text": [
      "<class 'pandas.core.frame.DataFrame'>\n",
      "DatetimeIndex: 2546 entries, 2012-11-09 to 2022-11-08\n",
      "Data columns (total 5 columns):\n",
      " #   Column  Non-Null Count  Dtype  \n",
      "---  ------  --------------  -----  \n",
      " 0   Close   2546 non-null   float64\n",
      " 1   Volume  2546 non-null   object \n",
      " 2   Open    2546 non-null   float64\n",
      " 3   High    2546 non-null   float64\n",
      " 4   Low     2546 non-null   float64\n",
      "dtypes: float64(4), object(1)\n",
      "memory usage: 119.3+ KB\n"
     ]
    }
   ],
   "source": [
    "spx.info()"
   ]
  },
  {
   "cell_type": "code",
   "execution_count": 9,
   "metadata": {},
   "outputs": [
    {
     "data": {
      "text/plain": [
       "<AxesSubplot:xlabel='Date'>"
      ]
     },
     "execution_count": 9,
     "metadata": {},
     "output_type": "execute_result"
    },
    {
     "data": {
      "image/png": "[encoded data removed]",
      "text/plain": [
       "<Figure size 1080x864 with 1 Axes>"
      ]
     },
     "metadata": {
      "needs_background": "light"
     },
     "output_type": "display_data"
    }
   ],
   "source": [
    "plt.figure(figsize=(15, 12))\n",
    "aapl.Close.plot()\n",
    "iff.Close.plot()"
   ]
  },
  {
   "cell_type": "markdown",
   "metadata": {},
   "source": [
    "# Random Walk I"
   ]
  },
  {
   "cell_type": "code",
   "execution_count": 13,
   "metadata": {},
   "outputs": [],
   "source": [
    "from numpy.random import normal, seed, choice\n",
    "from scipy.stats import norm\n",
    "seed(42)"
   ]
  },
  {
   "cell_type": "code",
   "execution_count": 52,
   "metadata": {},
   "outputs": [
    {
     "data": {
      "image/png": "[encoded data removed]",
      "text/plain": [
       "<Figure size 432x288 with 1 Axes>"
      ]
     },
     "metadata": {
      "needs_background": "light"
     },
     "output_type": "display_data"
    }
   ],
   "source": [
    "# Create Random Numbers\n",
    "random_returns = normal(loc=0.001, scale=0.01, size=2500)\n",
    "sns.distplot(random_returns, fit=norm, kde=False)\n",
    "plt.show()"
   ]
  },
  {
   "cell_type": "code",
   "execution_count": 53,
   "metadata": {},
   "outputs": [
    {
     "data": {
      "text/plain": [
       "[<matplotlib.lines.Line2D at 0x7f62c6c8ccc0>]"
      ]
     },
     "execution_count": 53,
     "metadata": {},
     "output_type": "execute_result"
    },
    {
     "data": {
      "image/png": "[encoded data removed]",
      "text/plain": [
       "<Figure size 432x288 with 1 Axes>"
      ]
     },
     "metadata": {
      "needs_background": "light"
     },
     "output_type": "display_data"
    }
   ],
   "source": [
    "plt.plot(random_returns)"
   ]
  },
  {
   "cell_type": "code",
   "execution_count": 55,
   "metadata": {},
   "outputs": [
    {
     "data": {
      "image/png": "[encoded data removed]",
      "text/plain": [
       "<Figure size 432x288 with 1 Axes>"
      ]
     },
     "metadata": {
      "needs_background": "light"
     },
     "output_type": "display_data"
    }
   ],
   "source": [
    "random_returns = pd.Series(random_returns)\n",
    "random_prices = random_returns.add(1).cumprod()\n",
    "random_prices.mul(1000).plot()\n",
    "plt.show()"
   ]
  },
  {
   "cell_type": "markdown",
   "metadata": {},
   "source": [
    "### PCT_CHANGE vs. Manual"
   ]
  },
  {
   "cell_type": "code",
   "execution_count": 33,
   "metadata": {},
   "outputs": [
    {
     "data": {
      "text/html": [
       "<div>\n",
       "<style scoped>\n",
       "    .dataframe tbody tr th:only-of-type {\n",
       "        vertical-align: middle;\n",
       "    }\n",
       "\n",
       "    .dataframe tbody tr th {\n",
       "        vertical-align: top;\n",
       "    }\n",
       "\n",
       "    .dataframe thead th {\n",
       "        text-align: right;\n",
       "    }\n",
       "</style>\n",
       "<table border=\"1\" class=\"dataframe\">\n",
       "  <thead>\n",
       "    <tr style=\"text-align: right;\">\n",
       "      <th></th>\n",
       "      <th>Close</th>\n",
       "    </tr>\n",
       "    <tr>\n",
       "      <th>Date</th>\n",
       "      <th></th>\n",
       "    </tr>\n",
       "  </thead>\n",
       "  <tbody>\n",
       "    <tr>\n",
       "      <th>2012-11-09</th>\n",
       "      <td>1379.85</td>\n",
       "    </tr>\n",
       "    <tr>\n",
       "      <th>2012-11-12</th>\n",
       "      <td>1380.03</td>\n",
       "    </tr>\n",
       "    <tr>\n",
       "      <th>2012-11-13</th>\n",
       "      <td>1374.53</td>\n",
       "    </tr>\n",
       "    <tr>\n",
       "      <th>2012-11-14</th>\n",
       "      <td>1355.49</td>\n",
       "    </tr>\n",
       "    <tr>\n",
       "      <th>2012-11-15</th>\n",
       "      <td>1353.33</td>\n",
       "    </tr>\n",
       "  </tbody>\n",
       "</table>\n",
       "</div>"
      ],
      "text/plain": [
       "              Close\n",
       "Date               \n",
       "2012-11-09  1379.85\n",
       "2012-11-12  1380.03\n",
       "2012-11-13  1374.53\n",
       "2012-11-14  1355.49\n",
       "2012-11-15  1353.33"
      ]
     },
     "execution_count": 33,
     "metadata": {},
     "output_type": "execute_result"
    }
   ],
   "source": [
    "df_spx = spx['Close'].to_frame()\n",
    "df_spx.head()"
   ]
  },
  {
   "cell_type": "code",
   "execution_count": 60,
   "metadata": {},
   "outputs": [
    {
     "data": {
      "text/html": [
       "<div>\n",
       "<style scoped>\n",
       "    .dataframe tbody tr th:only-of-type {\n",
       "        vertical-align: middle;\n",
       "    }\n",
       "\n",
       "    .dataframe tbody tr th {\n",
       "        vertical-align: top;\n",
       "    }\n",
       "\n",
       "    .dataframe thead th {\n",
       "        text-align: right;\n",
       "    }\n",
       "</style>\n",
       "<table border=\"1\" class=\"dataframe\">\n",
       "  <thead>\n",
       "    <tr style=\"text-align: right;\">\n",
       "      <th></th>\n",
       "      <th>Close</th>\n",
       "      <th>pct_change</th>\n",
       "      <th>shifted</th>\n",
       "      <th>diff</th>\n",
       "      <th>ret</th>\n",
       "    </tr>\n",
       "    <tr>\n",
       "      <th>Date</th>\n",
       "      <th></th>\n",
       "      <th></th>\n",
       "      <th></th>\n",
       "      <th></th>\n",
       "      <th></th>\n",
       "    </tr>\n",
       "  </thead>\n",
       "  <tbody>\n",
       "    <tr>\n",
       "      <th>2012-11-09</th>\n",
       "      <td>1379.85</td>\n",
       "      <td>NaN</td>\n",
       "      <td>NaN</td>\n",
       "      <td>NaN</td>\n",
       "      <td>NaN</td>\n",
       "    </tr>\n",
       "    <tr>\n",
       "      <th>2012-11-12</th>\n",
       "      <td>1380.03</td>\n",
       "      <td>0.000130</td>\n",
       "      <td>1379.85</td>\n",
       "      <td>1.000130</td>\n",
       "      <td>0.000130</td>\n",
       "    </tr>\n",
       "    <tr>\n",
       "      <th>2012-11-13</th>\n",
       "      <td>1374.53</td>\n",
       "      <td>-0.003985</td>\n",
       "      <td>1380.03</td>\n",
       "      <td>0.996015</td>\n",
       "      <td>-0.003985</td>\n",
       "    </tr>\n",
       "    <tr>\n",
       "      <th>2012-11-14</th>\n",
       "      <td>1355.49</td>\n",
       "      <td>-0.013852</td>\n",
       "      <td>1374.53</td>\n",
       "      <td>0.986148</td>\n",
       "      <td>-0.013852</td>\n",
       "    </tr>\n",
       "    <tr>\n",
       "      <th>2012-11-15</th>\n",
       "      <td>1353.33</td>\n",
       "      <td>-0.001594</td>\n",
       "      <td>1355.49</td>\n",
       "      <td>0.998406</td>\n",
       "      <td>-0.001594</td>\n",
       "    </tr>\n",
       "  </tbody>\n",
       "</table>\n",
       "</div>"
      ],
      "text/plain": [
       "              Close  pct_change  shifted      diff       ret\n",
       "Date                                                        \n",
       "2012-11-09  1379.85         NaN      NaN       NaN       NaN\n",
       "2012-11-12  1380.03    0.000130  1379.85  1.000130  0.000130\n",
       "2012-11-13  1374.53   -0.003985  1380.03  0.996015 -0.003985\n",
       "2012-11-14  1355.49   -0.013852  1374.53  0.986148 -0.013852\n",
       "2012-11-15  1353.33   -0.001594  1355.49  0.998406 -0.001594"
      ]
     },
     "execution_count": 60,
     "metadata": {},
     "output_type": "execute_result"
    }
   ],
   "source": [
    "df_spx['pct_change'] = df_spx.Close.pct_change()\n",
    "df_spx['shifted'] = df_spx.Close.shift()\n",
    "df_spx['diff'] = df_spx['Close'].div(df_spx.shifted)\n",
    "df_spx['ret'] = df_spx['diff'].sub(1)\n",
    "df_spx.head()"
   ]
  },
  {
   "cell_type": "markdown",
   "metadata": {},
   "source": [
    "## Random Walk II\n",
    "random walk of returns by sampling from actual returns"
   ]
  },
  {
   "cell_type": "code",
   "execution_count": 34,
   "metadata": {},
   "outputs": [
    {
     "data": {
      "text/html": [
       "<div>\n",
       "<style scoped>\n",
       "    .dataframe tbody tr th:only-of-type {\n",
       "        vertical-align: middle;\n",
       "    }\n",
       "\n",
       "    .dataframe tbody tr th {\n",
       "        vertical-align: top;\n",
       "    }\n",
       "\n",
       "    .dataframe thead th {\n",
       "        text-align: right;\n",
       "    }\n",
       "</style>\n",
       "<table border=\"1\" class=\"dataframe\">\n",
       "  <thead>\n",
       "    <tr style=\"text-align: right;\">\n",
       "      <th></th>\n",
       "      <th>Close</th>\n",
       "    </tr>\n",
       "    <tr>\n",
       "      <th>Date</th>\n",
       "      <th></th>\n",
       "    </tr>\n",
       "  </thead>\n",
       "  <tbody>\n",
       "    <tr>\n",
       "      <th>2012-11-09</th>\n",
       "      <td>1379.85</td>\n",
       "    </tr>\n",
       "    <tr>\n",
       "      <th>2012-11-12</th>\n",
       "      <td>1380.03</td>\n",
       "    </tr>\n",
       "    <tr>\n",
       "      <th>2012-11-13</th>\n",
       "      <td>1374.53</td>\n",
       "    </tr>\n",
       "    <tr>\n",
       "      <th>2012-11-14</th>\n",
       "      <td>1355.49</td>\n",
       "    </tr>\n",
       "    <tr>\n",
       "      <th>2012-11-15</th>\n",
       "      <td>1353.33</td>\n",
       "    </tr>\n",
       "  </tbody>\n",
       "</table>\n",
       "</div>"
      ],
      "text/plain": [
       "              Close\n",
       "Date               \n",
       "2012-11-09  1379.85\n",
       "2012-11-12  1380.03\n",
       "2012-11-13  1374.53\n",
       "2012-11-14  1355.49\n",
       "2012-11-15  1353.33"
      ]
     },
     "execution_count": 34,
     "metadata": {},
     "output_type": "execute_result"
    }
   ],
   "source": [
    "df_spx.head()"
   ]
  },
  {
   "cell_type": "code",
   "execution_count": 37,
   "metadata": {},
   "outputs": [
    {
     "data": {
      "text/plain": [
       "Date\n",
       "2012-11-12   -0.012172\n",
       "2012-11-13   -0.006732\n",
       "2012-11-14    0.013424\n",
       "2012-11-15    0.003612\n",
       "2012-11-16   -0.006343\n",
       "dtype: float64"
      ]
     },
     "execution_count": 37,
     "metadata": {},
     "output_type": "execute_result"
    }
   ],
   "source": [
    "spx_returns = df_spx.Close.pct_change().dropna()\n",
    "n_obs = spx_returns.count()\n",
    "random_walk = choice(spx_returns, size=n_obs)\n",
    "random_walk = pd.Series(random_walk, index=spx_returns.index)\n",
    "random_walk.head()\n"
   ]
  },
  {
   "cell_type": "code",
   "execution_count": 39,
   "metadata": {},
   "outputs": [
    {
     "data": {
      "text/html": [
       "<div>\n",
       "<style scoped>\n",
       "    .dataframe tbody tr th:only-of-type {\n",
       "        vertical-align: middle;\n",
       "    }\n",
       "\n",
       "    .dataframe tbody tr th {\n",
       "        vertical-align: top;\n",
       "    }\n",
       "\n",
       "    .dataframe thead th {\n",
       "        text-align: right;\n",
       "    }\n",
       "</style>\n",
       "<table border=\"1\" class=\"dataframe\">\n",
       "  <thead>\n",
       "    <tr style=\"text-align: right;\">\n",
       "      <th></th>\n",
       "      <th>Close</th>\n",
       "      <th>spx_random</th>\n",
       "    </tr>\n",
       "    <tr>\n",
       "      <th>Date</th>\n",
       "      <th></th>\n",
       "      <th></th>\n",
       "    </tr>\n",
       "  </thead>\n",
       "  <tbody>\n",
       "    <tr>\n",
       "      <th>2012-11-09</th>\n",
       "      <td>1379.85</td>\n",
       "      <td>1379.850000</td>\n",
       "    </tr>\n",
       "    <tr>\n",
       "      <th>2012-11-12</th>\n",
       "      <td>1380.03</td>\n",
       "      <td>1363.054498</td>\n",
       "    </tr>\n",
       "    <tr>\n",
       "      <th>2012-11-13</th>\n",
       "      <td>1374.53</td>\n",
       "      <td>1353.878491</td>\n",
       "    </tr>\n",
       "    <tr>\n",
       "      <th>2012-11-14</th>\n",
       "      <td>1355.49</td>\n",
       "      <td>1372.053226</td>\n",
       "    </tr>\n",
       "    <tr>\n",
       "      <th>2012-11-15</th>\n",
       "      <td>1353.33</td>\n",
       "      <td>1377.009028</td>\n",
       "    </tr>\n",
       "  </tbody>\n",
       "</table>\n",
       "</div>"
      ],
      "text/plain": [
       "              Close   spx_random\n",
       "Date                            \n",
       "2012-11-09  1379.85  1379.850000\n",
       "2012-11-12  1380.03  1363.054498\n",
       "2012-11-13  1374.53  1353.878491\n",
       "2012-11-14  1355.49  1372.053226\n",
       "2012-11-15  1353.33  1377.009028"
      ]
     },
     "execution_count": 39,
     "metadata": {},
     "output_type": "execute_result"
    }
   ],
   "source": [
    "first = df_spx.Close.first('D')\n",
    "spx_random = first.append(random_walk.add(1))\n",
    "df_spx['spx_random'] = spx_random.cumprod()\n",
    "df_spx.head()"
   ]
  },
  {
   "cell_type": "code",
   "execution_count": 41,
   "metadata": {},
   "outputs": [
    {
     "data": {
      "image/png": "[encoded data removed]",
      "text/plain": [
       "<Figure size 432x288 with 1 Axes>"
      ]
     },
     "metadata": {
      "needs_background": "light"
     },
     "output_type": "display_data"
    }
   ],
   "source": [
    "df_spx.plot()\n",
    "plt.show()"
   ]
  },
  {
   "cell_type": "markdown",
   "metadata": {},
   "source": [
    "## Relationships between time series: Correlation\n",
    "Correlation coefficient: how similar is the pairwise movement of two variables around their averages"
   ]
  },
  {
   "cell_type": "code",
   "execution_count": 42,
   "metadata": {},
   "outputs": [
    {
     "data": {
      "text/html": [
       "<div>\n",
       "<style scoped>\n",
       "    .dataframe tbody tr th:only-of-type {\n",
       "        vertical-align: middle;\n",
       "    }\n",
       "\n",
       "    .dataframe tbody tr th {\n",
       "        vertical-align: top;\n",
       "    }\n",
       "\n",
       "    .dataframe thead th {\n",
       "        text-align: right;\n",
       "    }\n",
       "</style>\n",
       "<table border=\"1\" class=\"dataframe\">\n",
       "  <thead>\n",
       "    <tr style=\"text-align: right;\">\n",
       "      <th></th>\n",
       "      <th>Open</th>\n",
       "      <th>High</th>\n",
       "      <th>Low</th>\n",
       "      <th>Close</th>\n",
       "      <th>Adj Close</th>\n",
       "      <th>Volume</th>\n",
       "    </tr>\n",
       "    <tr>\n",
       "      <th>Date</th>\n",
       "      <th></th>\n",
       "      <th></th>\n",
       "      <th></th>\n",
       "      <th></th>\n",
       "      <th></th>\n",
       "      <th></th>\n",
       "    </tr>\n",
       "  </thead>\n",
       "  <tbody>\n",
       "    <tr>\n",
       "      <th>1980-12-12</th>\n",
       "      <td>NaN</td>\n",
       "      <td>NaN</td>\n",
       "      <td>NaN</td>\n",
       "      <td>NaN</td>\n",
       "      <td>NaN</td>\n",
       "      <td>NaN</td>\n",
       "    </tr>\n",
       "    <tr>\n",
       "      <th>1980-12-15</th>\n",
       "      <td>-0.047823</td>\n",
       "      <td>-0.051945</td>\n",
       "      <td>-0.052171</td>\n",
       "      <td>-0.052171</td>\n",
       "      <td>-0.052176</td>\n",
       "      <td>-0.625006</td>\n",
       "    </tr>\n",
       "    <tr>\n",
       "      <th>1980-12-16</th>\n",
       "      <td>-0.073063</td>\n",
       "      <td>-0.073063</td>\n",
       "      <td>-0.073398</td>\n",
       "      <td>-0.073398</td>\n",
       "      <td>-0.073397</td>\n",
       "      <td>-0.398879</td>\n",
       "    </tr>\n",
       "    <tr>\n",
       "      <th>1980-12-17</th>\n",
       "      <td>0.019703</td>\n",
       "      <td>0.024629</td>\n",
       "      <td>0.024751</td>\n",
       "      <td>0.024751</td>\n",
       "      <td>0.024751</td>\n",
       "      <td>-0.182415</td>\n",
       "    </tr>\n",
       "    <tr>\n",
       "      <th>1980-12-18</th>\n",
       "      <td>0.028992</td>\n",
       "      <td>0.028853</td>\n",
       "      <td>0.028992</td>\n",
       "      <td>0.028992</td>\n",
       "      <td>0.028992</td>\n",
       "      <td>-0.150298</td>\n",
       "    </tr>\n",
       "    <tr>\n",
       "      <th>...</th>\n",
       "      <td>...</td>\n",
       "      <td>...</td>\n",
       "      <td>...</td>\n",
       "      <td>...</td>\n",
       "      <td>...</td>\n",
       "      <td>...</td>\n",
       "    </tr>\n",
       "    <tr>\n",
       "      <th>2022-11-02</th>\n",
       "      <td>-0.039528</td>\n",
       "      <td>-0.021100</td>\n",
       "      <td>-0.027694</td>\n",
       "      <td>-0.037305</td>\n",
       "      <td>-0.037305</td>\n",
       "      <td>0.164536</td>\n",
       "    </tr>\n",
       "    <tr>\n",
       "      <th>2022-11-03</th>\n",
       "      <td>-0.046257</td>\n",
       "      <td>-0.061576</td>\n",
       "      <td>-0.043103</td>\n",
       "      <td>-0.042405</td>\n",
       "      <td>-0.042405</td>\n",
       "      <td>0.046086</td>\n",
       "    </tr>\n",
       "    <tr>\n",
       "      <th>2022-11-04</th>\n",
       "      <td>0.000211</td>\n",
       "      <td>-0.000910</td>\n",
       "      <td>-0.031495</td>\n",
       "      <td>-0.003600</td>\n",
       "      <td>-0.001947</td>\n",
       "      <td>0.437080</td>\n",
       "    </tr>\n",
       "    <tr>\n",
       "      <th>2022-11-07</th>\n",
       "      <td>-0.035048</td>\n",
       "      <td>-0.024672</td>\n",
       "      <td>0.009600</td>\n",
       "      <td>0.003902</td>\n",
       "      <td>0.003902</td>\n",
       "      <td>-0.407500</td>\n",
       "    </tr>\n",
       "    <tr>\n",
       "      <th>2022-11-08</th>\n",
       "      <td>0.024068</td>\n",
       "      <td>0.016385</td>\n",
       "      <td>0.013415</td>\n",
       "      <td>0.004175</td>\n",
       "      <td>0.004175</td>\n",
       "      <td>0.078368</td>\n",
       "    </tr>\n",
       "  </tbody>\n",
       "</table>\n",
       "<p>10567 rows × 6 columns</p>\n",
       "</div>"
      ],
      "text/plain": [
       "                Open      High       Low     Close  Adj Close    Volume\n",
       "Date                                                                   \n",
       "1980-12-12       NaN       NaN       NaN       NaN        NaN       NaN\n",
       "1980-12-15 -0.047823 -0.051945 -0.052171 -0.052171  -0.052176 -0.625006\n",
       "1980-12-16 -0.073063 -0.073063 -0.073398 -0.073398  -0.073397 -0.398879\n",
       "1980-12-17  0.019703  0.024629  0.024751  0.024751   0.024751 -0.182415\n",
       "1980-12-18  0.028992  0.028853  0.028992  0.028992   0.028992 -0.150298\n",
       "...              ...       ...       ...       ...        ...       ...\n",
       "2022-11-02 -0.039528 -0.021100 -0.027694 -0.037305  -0.037305  0.164536\n",
       "2022-11-03 -0.046257 -0.061576 -0.043103 -0.042405  -0.042405  0.046086\n",
       "2022-11-04  0.000211 -0.000910 -0.031495 -0.003600  -0.001947  0.437080\n",
       "2022-11-07 -0.035048 -0.024672  0.009600  0.003902   0.003902 -0.407500\n",
       "2022-11-08  0.024068  0.016385  0.013415  0.004175   0.004175  0.078368\n",
       "\n",
       "[10567 rows x 6 columns]"
      ]
     },
     "execution_count": 42,
     "metadata": {},
     "output_type": "execute_result"
    }
   ],
   "source": [
    "aapl.pct_change()"
   ]
  },
  {
   "cell_type": "code",
   "execution_count": 44,
   "metadata": {},
   "outputs": [
    {
     "data": {
      "text/plain": [
       "<seaborn.axisgrid.JointGrid at 0x7ff360ad6ef0>"
      ]
     },
     "execution_count": 44,
     "metadata": {},
     "output_type": "execute_result"
    },
    {
     "data": {
      "image/png": "[encoded data removed]",
      "text/plain": [
       "<Figure size 432x432 with 3 Axes>"
      ]
     },
     "metadata": {
      "needs_background": "light"
     },
     "output_type": "display_data"
    }
   ],
   "source": [
    "sns.jointplot(x='Open', y='Close', data=aapl.pct_change())"
   ]
  },
  {
   "cell_type": "code",
   "execution_count": 46,
   "metadata": {},
   "outputs": [
    {
     "data": {
      "text/html": [
       "<div>\n",
       "<style scoped>\n",
       "    .dataframe tbody tr th:only-of-type {\n",
       "        vertical-align: middle;\n",
       "    }\n",
       "\n",
       "    .dataframe tbody tr th {\n",
       "        vertical-align: top;\n",
       "    }\n",
       "\n",
       "    .dataframe thead th {\n",
       "        text-align: right;\n",
       "    }\n",
       "</style>\n",
       "<table border=\"1\" class=\"dataframe\">\n",
       "  <thead>\n",
       "    <tr style=\"text-align: right;\">\n",
       "      <th></th>\n",
       "      <th>Open</th>\n",
       "      <th>High</th>\n",
       "      <th>Low</th>\n",
       "      <th>Close</th>\n",
       "      <th>Adj Close</th>\n",
       "      <th>Volume</th>\n",
       "    </tr>\n",
       "  </thead>\n",
       "  <tbody>\n",
       "    <tr>\n",
       "      <th>Open</th>\n",
       "      <td>1.000000</td>\n",
       "      <td>0.695759</td>\n",
       "      <td>0.713103</td>\n",
       "      <td>0.326200</td>\n",
       "      <td>0.326028</td>\n",
       "      <td>-0.015898</td>\n",
       "    </tr>\n",
       "    <tr>\n",
       "      <th>High</th>\n",
       "      <td>0.695759</td>\n",
       "      <td>1.000000</td>\n",
       "      <td>0.712283</td>\n",
       "      <td>0.726251</td>\n",
       "      <td>0.726087</td>\n",
       "      <td>0.078248</td>\n",
       "    </tr>\n",
       "    <tr>\n",
       "      <th>Low</th>\n",
       "      <td>0.713103</td>\n",
       "      <td>0.712283</td>\n",
       "      <td>1.000000</td>\n",
       "      <td>0.693690</td>\n",
       "      <td>0.693555</td>\n",
       "      <td>-0.071209</td>\n",
       "    </tr>\n",
       "    <tr>\n",
       "      <th>Close</th>\n",
       "      <td>0.326200</td>\n",
       "      <td>0.726251</td>\n",
       "      <td>0.693690</td>\n",
       "      <td>1.000000</td>\n",
       "      <td>0.999944</td>\n",
       "      <td>0.020323</td>\n",
       "    </tr>\n",
       "    <tr>\n",
       "      <th>Adj Close</th>\n",
       "      <td>0.326028</td>\n",
       "      <td>0.726087</td>\n",
       "      <td>0.693555</td>\n",
       "      <td>0.999944</td>\n",
       "      <td>1.000000</td>\n",
       "      <td>0.020293</td>\n",
       "    </tr>\n",
       "    <tr>\n",
       "      <th>Volume</th>\n",
       "      <td>-0.015898</td>\n",
       "      <td>0.078248</td>\n",
       "      <td>-0.071209</td>\n",
       "      <td>0.020323</td>\n",
       "      <td>0.020293</td>\n",
       "      <td>1.000000</td>\n",
       "    </tr>\n",
       "  </tbody>\n",
       "</table>\n",
       "</div>"
      ],
      "text/plain": [
       "               Open      High       Low     Close  Adj Close    Volume\n",
       "Open       1.000000  0.695759  0.713103  0.326200   0.326028 -0.015898\n",
       "High       0.695759  1.000000  0.712283  0.726251   0.726087  0.078248\n",
       "Low        0.713103  0.712283  1.000000  0.693690   0.693555 -0.071209\n",
       "Close      0.326200  0.726251  0.693690  1.000000   0.999944  0.020323\n",
       "Adj Close  0.326028  0.726087  0.693555  0.999944   1.000000  0.020293\n",
       "Volume    -0.015898  0.078248 -0.071209  0.020323   0.020293  1.000000"
      ]
     },
     "execution_count": 46,
     "metadata": {},
     "output_type": "execute_result"
    }
   ],
   "source": [
    "aapl.pct_change().corr()"
   ]
  },
  {
   "cell_type": "code",
   "execution_count": 51,
   "metadata": {},
   "outputs": [
    {
     "data": {
      "text/plain": [
       "<AxesSubplot:>"
      ]
     },
     "execution_count": 51,
     "metadata": {},
     "output_type": "execute_result"
    },
    {
     "data": {
      "image/png": "[encoded data removed]",
      "text/plain": [
       "<Figure size 432x288 with 2 Axes>"
      ]
     },
     "metadata": {
      "needs_background": "light"
     },
     "output_type": "display_data"
    }
   ],
   "source": [
    "sns.heatmap(aapl.pct_change().corr(), annot=True)"
   ]
  },
  {
   "cell_type": "markdown",
   "metadata": {},
   "source": [
    "## Annual return correlations"
   ]
  },
  {
   "cell_type": "code",
   "execution_count": 89,
   "metadata": {},
   "outputs": [
    {
     "data": {
      "text/html": [
       "<div>\n",
       "<style scoped>\n",
       "    .dataframe tbody tr th:only-of-type {\n",
       "        vertical-align: middle;\n",
       "    }\n",
       "\n",
       "    .dataframe tbody tr th {\n",
       "        vertical-align: top;\n",
       "    }\n",
       "\n",
       "    .dataframe thead th {\n",
       "        text-align: right;\n",
       "    }\n",
       "</style>\n",
       "<table border=\"1\" class=\"dataframe\">\n",
       "  <thead>\n",
       "    <tr style=\"text-align: right;\">\n",
       "      <th></th>\n",
       "      <th>Close</th>\n",
       "    </tr>\n",
       "    <tr>\n",
       "      <th>Date</th>\n",
       "      <th></th>\n",
       "    </tr>\n",
       "  </thead>\n",
       "  <tbody>\n",
       "    <tr>\n",
       "      <th>2005-01-03</th>\n",
       "      <td>1.130179</td>\n",
       "    </tr>\n",
       "    <tr>\n",
       "      <th>2005-01-04</th>\n",
       "      <td>1.141786</td>\n",
       "    </tr>\n",
       "    <tr>\n",
       "      <th>2005-01-05</th>\n",
       "      <td>1.151786</td>\n",
       "    </tr>\n",
       "    <tr>\n",
       "      <th>2005-01-06</th>\n",
       "      <td>1.152679</td>\n",
       "    </tr>\n",
       "    <tr>\n",
       "      <th>2005-01-07</th>\n",
       "      <td>1.236607</td>\n",
       "    </tr>\n",
       "    <tr>\n",
       "      <th>...</th>\n",
       "      <td>...</td>\n",
       "    </tr>\n",
       "    <tr>\n",
       "      <th>2022-11-02</th>\n",
       "      <td>145.029999</td>\n",
       "    </tr>\n",
       "    <tr>\n",
       "      <th>2022-11-03</th>\n",
       "      <td>138.880005</td>\n",
       "    </tr>\n",
       "    <tr>\n",
       "      <th>2022-11-04</th>\n",
       "      <td>138.380005</td>\n",
       "    </tr>\n",
       "    <tr>\n",
       "      <th>2022-11-07</th>\n",
       "      <td>138.919998</td>\n",
       "    </tr>\n",
       "    <tr>\n",
       "      <th>2022-11-08</th>\n",
       "      <td>139.500000</td>\n",
       "    </tr>\n",
       "  </tbody>\n",
       "</table>\n",
       "<p>4495 rows × 1 columns</p>\n",
       "</div>"
      ],
      "text/plain": [
       "                 Close\n",
       "Date                  \n",
       "2005-01-03    1.130179\n",
       "2005-01-04    1.141786\n",
       "2005-01-05    1.151786\n",
       "2005-01-06    1.152679\n",
       "2005-01-07    1.236607\n",
       "...                ...\n",
       "2022-11-02  145.029999\n",
       "2022-11-03  138.880005\n",
       "2022-11-04  138.380005\n",
       "2022-11-07  138.919998\n",
       "2022-11-08  139.500000\n",
       "\n",
       "[4495 rows x 1 columns]"
      ]
     },
     "execution_count": 89,
     "metadata": {},
     "output_type": "execute_result"
    }
   ],
   "source": [
    "df_aapl = aapl.loc['2005':]['Close'].to_frame()\n",
    "df_aapl"
   ]
  },
  {
   "cell_type": "code",
   "execution_count": null,
   "metadata": {},
   "outputs": [],
   "source": []
  },
  {
   "cell_type": "code",
   "execution_count": null,
   "metadata": {},
   "outputs": [],
   "source": []
  },
  {
   "cell_type": "code",
   "execution_count": 94,
   "metadata": {},
   "outputs": [],
   "source": [
    "data = pd.concat([aapl.Close, iff.Close, spx.Close], axis=1).dropna()\n",
    "data.columns = ['AAPL', 'IFF', 'SPX']"
   ]
  },
  {
   "cell_type": "code",
   "execution_count": 95,
   "metadata": {},
   "outputs": [
    {
     "data": {
      "text/html": [
       "<div>\n",
       "<style scoped>\n",
       "    .dataframe tbody tr th:only-of-type {\n",
       "        vertical-align: middle;\n",
       "    }\n",
       "\n",
       "    .dataframe tbody tr th {\n",
       "        vertical-align: top;\n",
       "    }\n",
       "\n",
       "    .dataframe thead th {\n",
       "        text-align: right;\n",
       "    }\n",
       "</style>\n",
       "<table border=\"1\" class=\"dataframe\">\n",
       "  <thead>\n",
       "    <tr style=\"text-align: right;\">\n",
       "      <th></th>\n",
       "      <th>AAPL</th>\n",
       "      <th>IFF</th>\n",
       "      <th>SPX</th>\n",
       "    </tr>\n",
       "    <tr>\n",
       "      <th>Date</th>\n",
       "      <th></th>\n",
       "      <th></th>\n",
       "      <th></th>\n",
       "    </tr>\n",
       "  </thead>\n",
       "  <tbody>\n",
       "    <tr>\n",
       "      <th>2012-11-09</th>\n",
       "      <td>19.537857</td>\n",
       "      <td>62.590000</td>\n",
       "      <td>1379.85</td>\n",
       "    </tr>\n",
       "    <tr>\n",
       "      <th>2012-11-12</th>\n",
       "      <td>19.386786</td>\n",
       "      <td>62.619999</td>\n",
       "      <td>1380.03</td>\n",
       "    </tr>\n",
       "    <tr>\n",
       "      <th>2012-11-13</th>\n",
       "      <td>19.389286</td>\n",
       "      <td>62.160000</td>\n",
       "      <td>1374.53</td>\n",
       "    </tr>\n",
       "    <tr>\n",
       "      <th>2012-11-14</th>\n",
       "      <td>19.174286</td>\n",
       "      <td>61.630001</td>\n",
       "      <td>1355.49</td>\n",
       "    </tr>\n",
       "    <tr>\n",
       "      <th>2012-11-15</th>\n",
       "      <td>18.772142</td>\n",
       "      <td>61.759998</td>\n",
       "      <td>1353.33</td>\n",
       "    </tr>\n",
       "    <tr>\n",
       "      <th>...</th>\n",
       "      <td>...</td>\n",
       "      <td>...</td>\n",
       "      <td>...</td>\n",
       "    </tr>\n",
       "    <tr>\n",
       "      <th>2022-11-02</th>\n",
       "      <td>145.029999</td>\n",
       "      <td>94.260002</td>\n",
       "      <td>3759.69</td>\n",
       "    </tr>\n",
       "    <tr>\n",
       "      <th>2022-11-03</th>\n",
       "      <td>138.880005</td>\n",
       "      <td>93.279999</td>\n",
       "      <td>3719.89</td>\n",
       "    </tr>\n",
       "    <tr>\n",
       "      <th>2022-11-04</th>\n",
       "      <td>138.380005</td>\n",
       "      <td>94.830002</td>\n",
       "      <td>3770.55</td>\n",
       "    </tr>\n",
       "    <tr>\n",
       "      <th>2022-11-07</th>\n",
       "      <td>138.919998</td>\n",
       "      <td>96.180000</td>\n",
       "      <td>3806.80</td>\n",
       "    </tr>\n",
       "    <tr>\n",
       "      <th>2022-11-08</th>\n",
       "      <td>139.500000</td>\n",
       "      <td>91.410004</td>\n",
       "      <td>3828.11</td>\n",
       "    </tr>\n",
       "  </tbody>\n",
       "</table>\n",
       "<p>2517 rows × 3 columns</p>\n",
       "</div>"
      ],
      "text/plain": [
       "                  AAPL        IFF      SPX\n",
       "Date                                      \n",
       "2012-11-09   19.537857  62.590000  1379.85\n",
       "2012-11-12   19.386786  62.619999  1380.03\n",
       "2012-11-13   19.389286  62.160000  1374.53\n",
       "2012-11-14   19.174286  61.630001  1355.49\n",
       "2012-11-15   18.772142  61.759998  1353.33\n",
       "...                ...        ...      ...\n",
       "2022-11-02  145.029999  94.260002  3759.69\n",
       "2022-11-03  138.880005  93.279999  3719.89\n",
       "2022-11-04  138.380005  94.830002  3770.55\n",
       "2022-11-07  138.919998  96.180000  3806.80\n",
       "2022-11-08  139.500000  91.410004  3828.11\n",
       "\n",
       "[2517 rows x 3 columns]"
      ]
     },
     "execution_count": 95,
     "metadata": {},
     "output_type": "execute_result"
    }
   ],
   "source": [
    "data"
   ]
  },
  {
   "cell_type": "code",
   "execution_count": 98,
   "metadata": {},
   "outputs": [
    {
     "data": {
      "text/plain": [
       "<AxesSubplot:>"
      ]
     },
     "execution_count": 98,
     "metadata": {},
     "output_type": "execute_result"
    },
    {
     "data": {
      "image/png": "[encoded data removed]",
      "text/plain": [
       "<Figure size 432x288 with 2 Axes>"
      ]
     },
     "metadata": {
      "needs_background": "light"
     },
     "output_type": "display_data"
    }
   ],
   "source": [
    "returns = data.pct_change()\n",
    "sns.heatmap(returns.corr(), annot=True)"
   ]
  },
  {
   "cell_type": "code",
   "execution_count": null,
   "metadata": {},
   "outputs": [],
   "source": []
  }
 ],
 "metadata": {
  "kernelspec": {
   "display_name": "Python 3.6.12 ('mdanalysis')",
   "language": "python",
   "name": "python3"
  },
  "language_info": {
   "codemirror_mode": {
    "name": "ipython",
    "version": 3
   },
   "file_extension": ".py",
   "mimetype": "text/x-python",
   "name": "python",
   "nbconvert_exporter": "python",
   "pygments_lexer": "ipython3",
   "version": "3.6.12"
  },
  "orig_nbformat": 4,
  "vscode": {
   "interpreter": {
    "hash": "7c2ff857100bde34f48f5e0e98e176447aec4667c4de751b477b7367cfbdc006"
   }
  }
 },
 "nbformat": 4,
 "nbformat_minor": 2
}
